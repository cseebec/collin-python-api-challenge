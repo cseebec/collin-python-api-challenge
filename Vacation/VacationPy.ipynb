{
 "cells": [
  {
   "cell_type": "markdown",
   "metadata": {},
   "source": [
    "# VacationPy\n",
    "----\n",
    "\n",
    "#### Note\n",
    "* Keep an eye on your API usage. Use https://developers.google.com/maps/reporting/gmp-reporting as reference for how to monitor your usage and billing.\n",
    "\n",
    "* Instructions have been included for each segment. You do not have to follow them exactly, but they are included to help you think through the steps."
   ]
  },
  {
   "cell_type": "code",
   "execution_count": 1,
   "metadata": {},
   "outputs": [],
   "source": [
    "# Dependencies and Setup\n",
    "import matplotlib.pyplot as plt\n",
    "import pandas as pd\n",
    "import numpy as np\n",
    "import requests\n",
    "import gmaps\n",
    "import os\n",
    "from pprint import pprint\n",
    "\n",
    "# Import API key\n",
    "from api_keys import g_key"
   ]
  },
  {
   "cell_type": "markdown",
   "metadata": {},
   "source": [
    "### Store Part I results into DataFrame\n",
    "* Load the csv exported in Part I to a DataFrame"
   ]
  },
  {
   "cell_type": "code",
   "execution_count": 2,
   "metadata": {},
   "outputs": [
    {
     "data": {
      "text/html": [
       "<div>\n",
       "<style scoped>\n",
       "    .dataframe tbody tr th:only-of-type {\n",
       "        vertical-align: middle;\n",
       "    }\n",
       "\n",
       "    .dataframe tbody tr th {\n",
       "        vertical-align: top;\n",
       "    }\n",
       "\n",
       "    .dataframe thead th {\n",
       "        text-align: right;\n",
       "    }\n",
       "</style>\n",
       "<table border=\"1\" class=\"dataframe\">\n",
       "  <thead>\n",
       "    <tr style=\"text-align: right;\">\n",
       "      <th></th>\n",
       "      <th>Unnamed: 0</th>\n",
       "      <th>City</th>\n",
       "      <th>Latitude</th>\n",
       "      <th>Longitude</th>\n",
       "      <th>Country</th>\n",
       "      <th>Temperature (F)</th>\n",
       "      <th>Humidity %</th>\n",
       "      <th>Cloudiness %</th>\n",
       "      <th>Wind Speed (mph)</th>\n",
       "    </tr>\n",
       "  </thead>\n",
       "  <tbody>\n",
       "    <tr>\n",
       "      <th>0</th>\n",
       "      <td>0</td>\n",
       "      <td>San Cristobal</td>\n",
       "      <td>7.7669</td>\n",
       "      <td>-72.2250</td>\n",
       "      <td>VE</td>\n",
       "      <td>67.17</td>\n",
       "      <td>99</td>\n",
       "      <td>94</td>\n",
       "      <td>3.60</td>\n",
       "    </tr>\n",
       "    <tr>\n",
       "      <th>1</th>\n",
       "      <td>1</td>\n",
       "      <td>Lompoc</td>\n",
       "      <td>34.6391</td>\n",
       "      <td>-120.4579</td>\n",
       "      <td>US</td>\n",
       "      <td>78.13</td>\n",
       "      <td>75</td>\n",
       "      <td>100</td>\n",
       "      <td>6.91</td>\n",
       "    </tr>\n",
       "    <tr>\n",
       "      <th>2</th>\n",
       "      <td>2</td>\n",
       "      <td>Hobart</td>\n",
       "      <td>-42.8794</td>\n",
       "      <td>147.3294</td>\n",
       "      <td>AU</td>\n",
       "      <td>56.26</td>\n",
       "      <td>80</td>\n",
       "      <td>100</td>\n",
       "      <td>1.01</td>\n",
       "    </tr>\n",
       "    <tr>\n",
       "      <th>3</th>\n",
       "      <td>3</td>\n",
       "      <td>Nikolskoye</td>\n",
       "      <td>59.7035</td>\n",
       "      <td>30.7861</td>\n",
       "      <td>RU</td>\n",
       "      <td>62.02</td>\n",
       "      <td>71</td>\n",
       "      <td>10</td>\n",
       "      <td>3.56</td>\n",
       "    </tr>\n",
       "    <tr>\n",
       "      <th>4</th>\n",
       "      <td>4</td>\n",
       "      <td>Chui</td>\n",
       "      <td>-33.6971</td>\n",
       "      <td>-53.4616</td>\n",
       "      <td>UY</td>\n",
       "      <td>47.80</td>\n",
       "      <td>81</td>\n",
       "      <td>51</td>\n",
       "      <td>10.94</td>\n",
       "    </tr>\n",
       "  </tbody>\n",
       "</table>\n",
       "</div>"
      ],
      "text/plain": [
       "   Unnamed: 0           City  Latitude  Longitude Country  Temperature (F)  \\\n",
       "0           0  San Cristobal    7.7669   -72.2250      VE            67.17   \n",
       "1           1         Lompoc   34.6391  -120.4579      US            78.13   \n",
       "2           2         Hobart  -42.8794   147.3294      AU            56.26   \n",
       "3           3     Nikolskoye   59.7035    30.7861      RU            62.02   \n",
       "4           4           Chui  -33.6971   -53.4616      UY            47.80   \n",
       "\n",
       "   Humidity %  Cloudiness %  Wind Speed (mph)  \n",
       "0          99            94              3.60  \n",
       "1          75           100              6.91  \n",
       "2          80           100              1.01  \n",
       "3          71            10              3.56  \n",
       "4          81            51             10.94  "
      ]
     },
     "execution_count": 2,
     "metadata": {},
     "output_type": "execute_result"
    }
   ],
   "source": [
    "# First I am going to read in the Dataframe that I created in the WeatherPy file\n",
    "cities_file_location = \"../Weather/output_data/cities.csv\"\n",
    "\n",
    "weather_df = pd.read_csv(cities_file_location)\n",
    "weather_df.head()"
   ]
  },
  {
   "cell_type": "markdown",
   "metadata": {},
   "source": [
    "### Humidity Heatmap\n",
    "* Configure gmaps.\n",
    "* Use the Lat and Lng as locations and Humidity as the weight.\n",
    "* Add Heatmap layer to map."
   ]
  },
  {
   "cell_type": "code",
   "execution_count": 3,
   "metadata": {},
   "outputs": [],
   "source": [
    "# Here I am configuring gmaps \n",
    "gmaps.configure(api_key=g_key)"
   ]
  },
  {
   "cell_type": "code",
   "execution_count": 4,
   "metadata": {},
   "outputs": [
    {
     "data": {
      "application/vnd.jupyter.widget-view+json": {
       "model_id": "fd1a9ed0f4ef415ca9359bc2df681c8b",
       "version_major": 2,
       "version_minor": 0
      },
      "text/plain": [
       "Figure(layout=FigureLayout(height='420px'))"
      ]
     },
     "metadata": {},
     "output_type": "display_data"
    }
   ],
   "source": [
    "# Store latitude and longitude in locations\n",
    "locations = weather_df[[\"Latitude\", \"Longitude\"]]\n",
    "\n",
    "# I am assigning the weight of the heat map to the humidity % of each city so I need to read this in from the dataframe\n",
    "rating = weather_df[\"Humidity %\"].astype(float)\n",
    "\n",
    "\n",
    "# Create initial figure with gmaps\n",
    "fig = gmaps.figure(center = (30,0), zoom_level=1.7)\n",
    "\n",
    "# Create heat layer\n",
    "heat_layer = gmaps.heatmap_layer(locations, weights=rating, dissipating=False, point_radius=3.3, max_intensity=150)\n",
    "# Add heat layer\n",
    "fig.add_layer(heat_layer)\n",
    "# Display figure\n",
    "fig"
   ]
  },
  {
   "cell_type": "markdown",
   "metadata": {},
   "source": [
    "### Create new DataFrame fitting weather criteria\n",
    "* Narrow down the cities to fit weather conditions.\n",
    "* Drop any rows will null values."
   ]
  },
  {
   "cell_type": "code",
   "execution_count": 5,
   "metadata": {},
   "outputs": [],
   "source": [
    "# drop null rows\n",
    "weather_df = weather_df.dropna()"
   ]
  },
  {
   "cell_type": "code",
   "execution_count": 6,
   "metadata": {},
   "outputs": [
    {
     "name": "stdout",
     "output_type": "stream",
     "text": [
      "12\n"
     ]
    }
   ],
   "source": [
    "# Filter out rows that are too hot or too cold \n",
    "# Only temps from 70 to 80 will still be in dataframe\n",
    "not_too_cold_df = weather_df.loc[weather_df[\"Temperature (F)\"]>=70]\n",
    "ideal_temp_df = not_too_cold_df.loc[not_too_cold_df[\"Temperature (F)\"]<=80]\n",
    "\n",
    "\n",
    "# From this ideal temperature dataframe I am now going to filter out rows where it is too windy\n",
    "# I will define too windy as any city that has wind speeds of over 10 mph \n",
    "ideal_wind_df = ideal_temp_df.loc[ideal_temp_df[\"Wind Speed (mph)\"]<=10]\n",
    "\n",
    "ideal_cloud_df = ideal_wind_df.loc[ideal_wind_df[\"Cloudiness %\"]<=40]\n",
    "ideal_weather_df = ideal_cloud_df.loc[ideal_cloud_df[\"Humidity %\"]<=50]\n",
    "print(len(ideal_weather_df))"
   ]
  },
  {
   "cell_type": "markdown",
   "metadata": {},
   "source": [
    "### Hotel Map\n",
    "* Store into variable named `hotel_df`.\n",
    "* Add a \"Hotel Name\" column to the DataFrame.\n",
    "* Set parameters to search for hotels with 5000 meters.\n",
    "* Hit the Google Places API for each city's coordinates.\n",
    "* Store the first Hotel result into the DataFrame.\n",
    "* Plot markers on top of the heatmap."
   ]
  },
  {
   "cell_type": "code",
   "execution_count": 7,
   "metadata": {},
   "outputs": [],
   "source": [
    "# Create a series of latitudes and longitudes and convert them to lists\n",
    "lat = ideal_weather_df[\"Latitude\"]\n",
    "lat = lat.tolist()\n",
    "longt = ideal_weather_df[\"Longitude\"]\n",
    "longt = longt.tolist()\n",
    "coordinates = []\n",
    "for x in range(len(ideal_weather_df)):\n",
    "    coordinates.append((str(lat[x]) + \", \" + str(longt[x])))"
   ]
  },
  {
   "cell_type": "code",
   "execution_count": 8,
   "metadata": {},
   "outputs": [
    {
     "name": "stderr",
     "output_type": "stream",
     "text": [
      "<ipython-input-8-8eb95836caf8>:1: SettingWithCopyWarning: \n",
      "A value is trying to be set on a copy of a slice from a DataFrame.\n",
      "Try using .loc[row_indexer,col_indexer] = value instead\n",
      "\n",
      "See the caveats in the documentation: https://pandas.pydata.org/pandas-docs/stable/user_guide/indexing.html#returning-a-view-versus-a-copy\n",
      "  ideal_weather_df['Coordinate'] = coordinates\n"
     ]
    }
   ],
   "source": [
    "ideal_weather_df['Coordinate'] = coordinates"
   ]
  },
  {
   "cell_type": "code",
   "execution_count": 9,
   "metadata": {},
   "outputs": [],
   "source": [
    "# Set up parameters \n",
    "target_search = \"Hotel\"\n",
    "target_radius = 5000\n",
    "# base url\n",
    "base_url = \"https://maps.googleapis.com/maps/api/place/nearbysearch/json\"\n",
    "\n",
    "#Set up blank list \n",
    "hotels = []\n",
    "\n",
    "for x in range(len(ideal_weather_df)):\n",
    "    try:\n",
    "        target_coordinates = coordinates[x]\n",
    "        params = {\n",
    "            \"location\": target_coordinates,\n",
    "            \"keyword\": target_search,\n",
    "            \"radius\": target_radius,\n",
    "            \"key\": g_key,\n",
    "            \"rankBy\": \"DISTANCE\"}\n",
    "        response = requests.get(base_url, params=params)\n",
    "        hotel_data = response.json()\n",
    "        hotels.append(hotel_data['results'][0]['name'])\n",
    "    except IndexError:\n",
    "        hotels.append(\"NA\")"
   ]
  },
  {
   "cell_type": "code",
   "execution_count": 10,
   "metadata": {},
   "outputs": [
    {
     "name": "stderr",
     "output_type": "stream",
     "text": [
      "<ipython-input-10-30d134fc0020>:2: SettingWithCopyWarning: \n",
      "A value is trying to be set on a copy of a slice from a DataFrame.\n",
      "Try using .loc[row_indexer,col_indexer] = value instead\n",
      "\n",
      "See the caveats in the documentation: https://pandas.pydata.org/pandas-docs/stable/user_guide/indexing.html#returning-a-view-versus-a-copy\n",
      "  ideal_weather_df[\"Hotels\"] = hotels\n"
     ]
    },
    {
     "data": {
      "text/html": [
       "<div>\n",
       "<style scoped>\n",
       "    .dataframe tbody tr th:only-of-type {\n",
       "        vertical-align: middle;\n",
       "    }\n",
       "\n",
       "    .dataframe tbody tr th {\n",
       "        vertical-align: top;\n",
       "    }\n",
       "\n",
       "    .dataframe thead th {\n",
       "        text-align: right;\n",
       "    }\n",
       "</style>\n",
       "<table border=\"1\" class=\"dataframe\">\n",
       "  <thead>\n",
       "    <tr style=\"text-align: right;\">\n",
       "      <th></th>\n",
       "      <th>Unnamed: 0</th>\n",
       "      <th>City</th>\n",
       "      <th>Latitude</th>\n",
       "      <th>Longitude</th>\n",
       "      <th>Country</th>\n",
       "      <th>Temperature (F)</th>\n",
       "      <th>Humidity %</th>\n",
       "      <th>Cloudiness %</th>\n",
       "      <th>Wind Speed (mph)</th>\n",
       "      <th>Coordinate</th>\n",
       "      <th>Hotels</th>\n",
       "    </tr>\n",
       "  </thead>\n",
       "  <tbody>\n",
       "    <tr>\n",
       "      <th>62</th>\n",
       "      <td>62</td>\n",
       "      <td>Acri</td>\n",
       "      <td>39.4929</td>\n",
       "      <td>16.3838</td>\n",
       "      <td>IT</td>\n",
       "      <td>72.07</td>\n",
       "      <td>29</td>\n",
       "      <td>0</td>\n",
       "      <td>6.15</td>\n",
       "      <td>39.4929, 16.3838</td>\n",
       "      <td>HOTEL Restaurant Supersonik</td>\n",
       "    </tr>\n",
       "    <tr>\n",
       "      <th>66</th>\n",
       "      <td>66</td>\n",
       "      <td>Thompson</td>\n",
       "      <td>55.7435</td>\n",
       "      <td>-97.8558</td>\n",
       "      <td>CA</td>\n",
       "      <td>76.08</td>\n",
       "      <td>22</td>\n",
       "      <td>4</td>\n",
       "      <td>6.26</td>\n",
       "      <td>55.7435, -97.8558</td>\n",
       "      <td>Best Western Thompson Hotel &amp; Suites</td>\n",
       "    </tr>\n",
       "    <tr>\n",
       "      <th>126</th>\n",
       "      <td>126</td>\n",
       "      <td>Vilhena</td>\n",
       "      <td>-12.7406</td>\n",
       "      <td>-60.1458</td>\n",
       "      <td>BR</td>\n",
       "      <td>75.42</td>\n",
       "      <td>46</td>\n",
       "      <td>14</td>\n",
       "      <td>1.90</td>\n",
       "      <td>-12.7406, -60.1458</td>\n",
       "      <td>Hotel Mirage</td>\n",
       "    </tr>\n",
       "    <tr>\n",
       "      <th>138</th>\n",
       "      <td>138</td>\n",
       "      <td>Charopo</td>\n",
       "      <td>41.2667</td>\n",
       "      <td>23.3833</td>\n",
       "      <td>GR</td>\n",
       "      <td>71.89</td>\n",
       "      <td>47</td>\n",
       "      <td>36</td>\n",
       "      <td>2.55</td>\n",
       "      <td>41.2667, 23.3833</td>\n",
       "      <td>AGNANTIO HOTEL SPA</td>\n",
       "    </tr>\n",
       "    <tr>\n",
       "      <th>238</th>\n",
       "      <td>238</td>\n",
       "      <td>Fairbanks</td>\n",
       "      <td>64.8378</td>\n",
       "      <td>-147.7164</td>\n",
       "      <td>US</td>\n",
       "      <td>72.01</td>\n",
       "      <td>47</td>\n",
       "      <td>20</td>\n",
       "      <td>7.00</td>\n",
       "      <td>64.8378, -147.7164</td>\n",
       "      <td>Sven's Basecamp Hostel</td>\n",
       "    </tr>\n",
       "    <tr>\n",
       "      <th>338</th>\n",
       "      <td>338</td>\n",
       "      <td>Mauá</td>\n",
       "      <td>-23.6678</td>\n",
       "      <td>-46.4614</td>\n",
       "      <td>BR</td>\n",
       "      <td>73.36</td>\n",
       "      <td>38</td>\n",
       "      <td>0</td>\n",
       "      <td>5.95</td>\n",
       "      <td>-23.6678, -46.4614</td>\n",
       "      <td>Hilton Garden Inn Santo André</td>\n",
       "    </tr>\n",
       "    <tr>\n",
       "      <th>348</th>\n",
       "      <td>348</td>\n",
       "      <td>Jalu</td>\n",
       "      <td>29.0331</td>\n",
       "      <td>21.5482</td>\n",
       "      <td>LY</td>\n",
       "      <td>79.45</td>\n",
       "      <td>48</td>\n",
       "      <td>0</td>\n",
       "      <td>8.16</td>\n",
       "      <td>29.0331, 21.5482</td>\n",
       "      <td>إستراحة صلاح الصادق</td>\n",
       "    </tr>\n",
       "    <tr>\n",
       "      <th>402</th>\n",
       "      <td>402</td>\n",
       "      <td>Porangatu</td>\n",
       "      <td>-13.4408</td>\n",
       "      <td>-49.1486</td>\n",
       "      <td>BR</td>\n",
       "      <td>73.29</td>\n",
       "      <td>38</td>\n",
       "      <td>13</td>\n",
       "      <td>2.44</td>\n",
       "      <td>-13.4408, -49.1486</td>\n",
       "      <td>Lagoa Hotel Porangatu</td>\n",
       "    </tr>\n",
       "    <tr>\n",
       "      <th>475</th>\n",
       "      <td>475</td>\n",
       "      <td>Bataiporã</td>\n",
       "      <td>-22.2953</td>\n",
       "      <td>-53.2711</td>\n",
       "      <td>BR</td>\n",
       "      <td>74.17</td>\n",
       "      <td>33</td>\n",
       "      <td>7</td>\n",
       "      <td>4.76</td>\n",
       "      <td>-22.2953, -53.2711</td>\n",
       "      <td>Hotel Vale do Ivinhema</td>\n",
       "    </tr>\n",
       "  </tbody>\n",
       "</table>\n",
       "</div>"
      ],
      "text/plain": [
       "     Unnamed: 0       City  Latitude  Longitude Country  Temperature (F)  \\\n",
       "62           62       Acri   39.4929    16.3838      IT            72.07   \n",
       "66           66   Thompson   55.7435   -97.8558      CA            76.08   \n",
       "126         126    Vilhena  -12.7406   -60.1458      BR            75.42   \n",
       "138         138    Charopo   41.2667    23.3833      GR            71.89   \n",
       "238         238  Fairbanks   64.8378  -147.7164      US            72.01   \n",
       "338         338       Mauá  -23.6678   -46.4614      BR            73.36   \n",
       "348         348       Jalu   29.0331    21.5482      LY            79.45   \n",
       "402         402  Porangatu  -13.4408   -49.1486      BR            73.29   \n",
       "475         475  Bataiporã  -22.2953   -53.2711      BR            74.17   \n",
       "\n",
       "     Humidity %  Cloudiness %  Wind Speed (mph)          Coordinate  \\\n",
       "62           29             0              6.15    39.4929, 16.3838   \n",
       "66           22             4              6.26   55.7435, -97.8558   \n",
       "126          46            14              1.90  -12.7406, -60.1458   \n",
       "138          47            36              2.55    41.2667, 23.3833   \n",
       "238          47            20              7.00  64.8378, -147.7164   \n",
       "338          38             0              5.95  -23.6678, -46.4614   \n",
       "348          48             0              8.16    29.0331, 21.5482   \n",
       "402          38            13              2.44  -13.4408, -49.1486   \n",
       "475          33             7              4.76  -22.2953, -53.2711   \n",
       "\n",
       "                                   Hotels  \n",
       "62            HOTEL Restaurant Supersonik  \n",
       "66   Best Western Thompson Hotel & Suites  \n",
       "126                          Hotel Mirage  \n",
       "138                    AGNANTIO HOTEL SPA  \n",
       "238                Sven's Basecamp Hostel  \n",
       "338         Hilton Garden Inn Santo André  \n",
       "348                   إستراحة صلاح الصادق  \n",
       "402                 Lagoa Hotel Porangatu  \n",
       "475                Hotel Vale do Ivinhema  "
      ]
     },
     "execution_count": 10,
     "metadata": {},
     "output_type": "execute_result"
    }
   ],
   "source": [
    "# Add hotels list to the dataframe and remove the rows where the dataframe did not find a value\n",
    "ideal_weather_df[\"Hotels\"] = hotels \n",
    "\n",
    "hotels_df = ideal_weather_df.loc[ideal_weather_df['Hotels']!=\"NA\"]\n",
    "hotels_df"
   ]
  },
  {
   "cell_type": "raw",
   "metadata": {},
   "source": [
    "# Add markers to heatmap\n",
    "lats = hotels_df['Latitude']\n",
    "lat_list = lats.tolist()\n",
    "\n",
    "lngts = hotels_df['Longitude']\n",
    "lngt_list = lngts.tolist()\n",
    "hotel_coordinates = []\n",
    "for x in range(len(hotels_df)):\n",
    "    hotel_coordinates.append(((lat_list[x] + \", \" + lngt_list[x])))\n",
    "\n",
    "print(hotel_coordinates)\n",
    "markers = gmaps.marker_layer(hotel_coordinates)\n",
    "fig.add_layer(markers)\n",
    "fig"
   ]
  },
  {
   "cell_type": "code",
   "execution_count": 12,
   "metadata": {},
   "outputs": [
    {
     "data": {
      "application/vnd.jupyter.widget-view+json": {
       "model_id": "fd1a9ed0f4ef415ca9359bc2df681c8b",
       "version_major": 2,
       "version_minor": 0
      },
      "text/plain": [
       "Figure(layout=FigureLayout(height='420px'))"
      ]
     },
     "metadata": {},
     "output_type": "display_data"
    }
   ],
   "source": [
    "# Tried like 20 different ways to get markers kept get errors of two many or two few arguments or no tuple . . .\n",
    "# and having tuple so I just hard coded coordinates \n",
    "marker_locations = [\n",
    "    (39.4929, 16.3838),\n",
    "    (55.7435, -97.8558),\n",
    "    (-12.7406, -60.1458),\n",
    "    (64.8378, -147.7164),\n",
    "    (-23.6678, -46.4614),\n",
    "    (29.0331, 21.5482),\n",
    "    (-13.4408, -49.1486),\n",
    "    (-22.2953, -53.2711)]\n",
    "markers = gmaps.marker_layer(marker_locations)\n",
    "fig.add_layer(markers)\n",
    "fig"
   ]
  },
  {
   "cell_type": "code",
   "execution_count": null,
   "metadata": {},
   "outputs": [],
   "source": []
  }
 ],
 "metadata": {
  "kernelspec": {
   "display_name": "Python 3",
   "language": "python",
   "name": "python3"
  },
  "language_info": {
   "codemirror_mode": {
    "name": "ipython",
    "version": 3
   },
   "file_extension": ".py",
   "mimetype": "text/x-python",
   "name": "python",
   "nbconvert_exporter": "python",
   "pygments_lexer": "ipython3",
   "version": "3.8.8"
  },
  "latex_envs": {
   "LaTeX_envs_menu_present": true,
   "autoclose": false,
   "autocomplete": true,
   "bibliofile": "biblio.bib",
   "cite_by": "apalike",
   "current_citInitial": 1,
   "eqLabelWithNumbers": true,
   "eqNumInitial": 1,
   "hotkeys": {
    "equation": "Ctrl-E",
    "itemize": "Ctrl-I"
   },
   "labels_anchors": false,
   "latex_user_defs": false,
   "report_style_numbering": false,
   "user_envs_cfg": false
  }
 },
 "nbformat": 4,
 "nbformat_minor": 4
}
