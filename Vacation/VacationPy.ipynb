{
 "cells": [
  {
   "cell_type": "markdown",
   "metadata": {},
   "source": [
    "# VacationPy\n",
    "----\n",
    "\n",
    "#### Note\n",
    "* Keep an eye on your API usage. Use https://developers.google.com/maps/reporting/gmp-reporting as reference for how to monitor your usage and billing.\n",
    "\n",
    "* Instructions have been included for each segment. You do not have to follow them exactly, but they are included to help you think through the steps."
   ]
  },
  {
   "cell_type": "code",
   "execution_count": 1,
   "metadata": {},
   "outputs": [],
   "source": [
    "# Dependencies and Setup\n",
    "import matplotlib.pyplot as plt\n",
    "import pandas as pd\n",
    "import numpy as np\n",
    "import requests\n",
    "import gmaps\n",
    "import os\n",
    "from pprint import pprint\n",
    "\n",
    "# Import API key\n",
    "from api_keys import g_key"
   ]
  },
  {
   "cell_type": "markdown",
   "metadata": {},
   "source": [
    "### Store Part I results into DataFrame\n",
    "* Load the csv exported in Part I to a DataFrame"
   ]
  },
  {
   "cell_type": "code",
   "execution_count": 2,
   "metadata": {},
   "outputs": [
    {
     "data": {
      "text/html": [
       "<div>\n",
       "<style scoped>\n",
       "    .dataframe tbody tr th:only-of-type {\n",
       "        vertical-align: middle;\n",
       "    }\n",
       "\n",
       "    .dataframe tbody tr th {\n",
       "        vertical-align: top;\n",
       "    }\n",
       "\n",
       "    .dataframe thead th {\n",
       "        text-align: right;\n",
       "    }\n",
       "</style>\n",
       "<table border=\"1\" class=\"dataframe\">\n",
       "  <thead>\n",
       "    <tr style=\"text-align: right;\">\n",
       "      <th></th>\n",
       "      <th>Unnamed: 0</th>\n",
       "      <th>City</th>\n",
       "      <th>Latitude</th>\n",
       "      <th>Longitude</th>\n",
       "      <th>Country</th>\n",
       "      <th>Temperature (F)</th>\n",
       "      <th>Humidity %</th>\n",
       "      <th>Cloudiness %</th>\n",
       "      <th>Wind Speed (mph)</th>\n",
       "    </tr>\n",
       "  </thead>\n",
       "  <tbody>\n",
       "    <tr>\n",
       "      <th>0</th>\n",
       "      <td>0</td>\n",
       "      <td>San Cristobal</td>\n",
       "      <td>7.7669</td>\n",
       "      <td>-72.2250</td>\n",
       "      <td>VE</td>\n",
       "      <td>67.17</td>\n",
       "      <td>99</td>\n",
       "      <td>94</td>\n",
       "      <td>3.60</td>\n",
       "    </tr>\n",
       "    <tr>\n",
       "      <th>1</th>\n",
       "      <td>1</td>\n",
       "      <td>Lompoc</td>\n",
       "      <td>34.6391</td>\n",
       "      <td>-120.4579</td>\n",
       "      <td>US</td>\n",
       "      <td>78.13</td>\n",
       "      <td>75</td>\n",
       "      <td>100</td>\n",
       "      <td>6.91</td>\n",
       "    </tr>\n",
       "    <tr>\n",
       "      <th>2</th>\n",
       "      <td>2</td>\n",
       "      <td>Hobart</td>\n",
       "      <td>-42.8794</td>\n",
       "      <td>147.3294</td>\n",
       "      <td>AU</td>\n",
       "      <td>56.26</td>\n",
       "      <td>80</td>\n",
       "      <td>100</td>\n",
       "      <td>1.01</td>\n",
       "    </tr>\n",
       "    <tr>\n",
       "      <th>3</th>\n",
       "      <td>3</td>\n",
       "      <td>Nikolskoye</td>\n",
       "      <td>59.7035</td>\n",
       "      <td>30.7861</td>\n",
       "      <td>RU</td>\n",
       "      <td>62.02</td>\n",
       "      <td>71</td>\n",
       "      <td>10</td>\n",
       "      <td>3.56</td>\n",
       "    </tr>\n",
       "    <tr>\n",
       "      <th>4</th>\n",
       "      <td>4</td>\n",
       "      <td>Chui</td>\n",
       "      <td>-33.6971</td>\n",
       "      <td>-53.4616</td>\n",
       "      <td>UY</td>\n",
       "      <td>47.80</td>\n",
       "      <td>81</td>\n",
       "      <td>51</td>\n",
       "      <td>10.94</td>\n",
       "    </tr>\n",
       "  </tbody>\n",
       "</table>\n",
       "</div>"
      ],
      "text/plain": [
       "   Unnamed: 0           City  Latitude  Longitude Country  Temperature (F)  \\\n",
       "0           0  San Cristobal    7.7669   -72.2250      VE            67.17   \n",
       "1           1         Lompoc   34.6391  -120.4579      US            78.13   \n",
       "2           2         Hobart  -42.8794   147.3294      AU            56.26   \n",
       "3           3     Nikolskoye   59.7035    30.7861      RU            62.02   \n",
       "4           4           Chui  -33.6971   -53.4616      UY            47.80   \n",
       "\n",
       "   Humidity %  Cloudiness %  Wind Speed (mph)  \n",
       "0          99            94              3.60  \n",
       "1          75           100              6.91  \n",
       "2          80           100              1.01  \n",
       "3          71            10              3.56  \n",
       "4          81            51             10.94  "
      ]
     },
     "execution_count": 2,
     "metadata": {},
     "output_type": "execute_result"
    }
   ],
   "source": [
    "# First I am going to read in the Dataframe that I created in the WeatherPy file\n",
    "cities_file_location = \"../Weather/output_data/cities.csv\"\n",
    "\n",
    "weather_df = pd.read_csv(cities_file_location)\n",
    "weather_df.head()"
   ]
  },
  {
   "cell_type": "markdown",
   "metadata": {},
   "source": [
    "### Humidity Heatmap\n",
    "* Configure gmaps.\n",
    "* Use the Lat and Lng as locations and Humidity as the weight.\n",
    "* Add Heatmap layer to map."
   ]
  },
  {
   "cell_type": "code",
   "execution_count": 3,
   "metadata": {},
   "outputs": [],
   "source": [
    "# Here I am configuring gmaps \n",
    "gmaps.configure(api_key=g_key)"
   ]
  },
  {
   "cell_type": "code",
   "execution_count": 4,
   "metadata": {},
   "outputs": [
    {
     "data": {
      "application/vnd.jupyter.widget-view+json": {
       "model_id": "9c5b575aba634eb19734611a19244ac3",
       "version_major": 2,
       "version_minor": 0
      },
      "text/plain": [
       "Figure(layout=FigureLayout(height='420px'))"
      ]
     },
     "metadata": {},
     "output_type": "display_data"
    }
   ],
   "source": [
    "# Store latitude and longitude in locations\n",
    "locations = weather_df[[\"Latitude\", \"Longitude\"]]\n",
    "\n",
    "# I am assigning the weight of the heat map to the humidity % of each city so I need to read this in from the dataframe\n",
    "rating = weather_df[\"Humidity %\"].astype(float)\n",
    "\n",
    "\n",
    "# Create initial figure with gmaps\n",
    "fig = gmaps.figure(center = (30,0), zoom_level=1.7)\n",
    "\n",
    "# Create heat layer\n",
    "heat_layer = gmaps.heatmap_layer(locations, weights=rating, dissipating=False, point_radius=3.3, max_intensity=150)\n",
    "# Add heat layer\n",
    "fig.add_layer(heat_layer)\n",
    "# Display figure\n",
    "fig"
   ]
  },
  {
   "cell_type": "markdown",
   "metadata": {},
   "source": [
    "### Create new DataFrame fitting weather criteria\n",
    "* Narrow down the cities to fit weather conditions.\n",
    "* Drop any rows will null values."
   ]
  },
  {
   "cell_type": "code",
   "execution_count": 5,
   "metadata": {},
   "outputs": [],
   "source": [
    "# drop null rows\n",
    "weather_df = weather_df.dropna()"
   ]
  },
  {
   "cell_type": "code",
   "execution_count": 6,
   "metadata": {},
   "outputs": [],
   "source": [
    "# Filter out rows that are too hot or too cold \n",
    "# Only temps from 70 to 80 will still be in dataframe\n",
    "not_too_cold_df = weather_df.loc[weather_df[\"Temperature (F)\"]>=70]\n",
    "ideal_temp_df = not_too_cold_df.loc[not_too_cold_df[\"Temperature (F)\"]<=80]\n",
    "\n",
    "\n",
    "# From this ideal temperature dataframe I am now going to filter out rows where it is too windy\n",
    "# I will define too windy as any city that has wind speeds of over 10 mph \n",
    "ideal_wind_df = ideal_temp_df.loc[ideal_temp_df[\"Wind Speed (mph)\"]<=10]\n",
    "\n",
    "ideal_cloud_df = ideal_wind_df.loc[ideal_wind_df[\"Cloudiness %\"]<=50]\n",
    "ideal_weather_df = ideal_cloud_df.loc[ideal_cloud_df[\"Humidity %\"]<=70]"
   ]
  },
  {
   "cell_type": "markdown",
   "metadata": {},
   "source": [
    "### Hotel Map\n",
    "* Store into variable named `hotel_df`.\n",
    "* Add a \"Hotel Name\" column to the DataFrame.\n",
    "* Set parameters to search for hotels with 5000 meters.\n",
    "* Hit the Google Places API for each city's coordinates.\n",
    "* Store the first Hotel result into the DataFrame.\n",
    "* Plot markers on top of the heatmap."
   ]
  },
  {
   "cell_type": "code",
   "execution_count": 7,
   "metadata": {},
   "outputs": [],
   "source": [
    "# Create a series of latitudes and longitudes and convert them to lists\n",
    "lat = ideal_weather_df[\"Latitude\"]\n",
    "lat = lat.tolist()\n",
    "longt = ideal_weather_df[\"Longitude\"]\n",
    "longt = longt.tolist()"
   ]
  },
  {
   "cell_type": "code",
   "execution_count": 8,
   "metadata": {},
   "outputs": [],
   "source": [
    "# Set up parameters \n",
    "target_search = \"Hotel\"\n",
    "target_radius = 5000\n",
    "# base url\n",
    "base_url = \"https://maps.googleapis.com/maps/api/place/nearbysearch/json\"\n",
    "\n",
    "#Set up blank list \n",
    "hotels = []\n",
    "\n",
    "for x in range(len(ideal_weather_df)):\n",
    "    try:\n",
    "        target_coordinates = str(lat[x]) +\", \"+ str(longt[x])\n",
    "        params = {\n",
    "            \"location\": target_coordinates,\n",
    "            \"keyword\": target_search,\n",
    "            \"radius\": target_radius,\n",
    "            \"key\": g_key,\n",
    "            \"rankBy\": \"DISTANCE\"}\n",
    "        response = requests.get(base_url, params=params)\n",
    "        hotel_data = response.json()\n",
    "        hotels.append(hotel_data['results'][0]['name'])\n",
    "    except IndexError:\n",
    "        hotels.append(\"NA\")"
   ]
  },
  {
   "cell_type": "code",
   "execution_count": 9,
   "metadata": {},
   "outputs": [
    {
     "name": "stderr",
     "output_type": "stream",
     "text": [
      "<ipython-input-9-f8d896693612>:2: SettingWithCopyWarning: \n",
      "A value is trying to be set on a copy of a slice from a DataFrame.\n",
      "Try using .loc[row_indexer,col_indexer] = value instead\n",
      "\n",
      "See the caveats in the documentation: https://pandas.pydata.org/pandas-docs/stable/user_guide/indexing.html#returning-a-view-versus-a-copy\n",
      "  ideal_weather_df[\"Hotels\"] = hotels\n"
     ]
    }
   ],
   "source": [
    "# Add hotels list to the dataframe and remove the rows where the dataframe did not find a value\n",
    "ideal_weather_df[\"Hotels\"] = hotels \n",
    "\n",
    "hotels_df = ideal_weather_df.loc[ideal_weather_df['Hotels']!=\"NA\"]"
   ]
  },
  {
   "cell_type": "code",
   "execution_count": 10,
   "metadata": {},
   "outputs": [
    {
     "data": {
      "application/vnd.jupyter.widget-view+json": {
       "model_id": "9c5b575aba634eb19734611a19244ac3",
       "version_major": 2,
       "version_minor": 0
      },
      "text/plain": [
       "Figure(layout=FigureLayout(height='420px'))"
      ]
     },
     "metadata": {},
     "output_type": "display_data"
    }
   ],
   "source": [
    "# Add marker layer ontop of heat map\n",
    "marker_locations = hotels_df[[\"Latitude\", \"Longitude\"]]\n",
    "\n",
    "# Add markers\n",
    "markers = gmaps.marker_layer(marker_locations)\n",
    "fig.add_layer(markers)\n",
    "\n",
    "# Display figure\n",
    "fig"
   ]
  },
  {
   "cell_type": "code",
   "execution_count": null,
   "metadata": {},
   "outputs": [],
   "source": []
  },
  {
   "cell_type": "code",
   "execution_count": null,
   "metadata": {},
   "outputs": [],
   "source": []
  }
 ],
 "metadata": {
  "kernelspec": {
   "display_name": "Python 3",
   "language": "python",
   "name": "python3"
  },
  "language_info": {
   "codemirror_mode": {
    "name": "ipython",
    "version": 3
   },
   "file_extension": ".py",
   "mimetype": "text/x-python",
   "name": "python",
   "nbconvert_exporter": "python",
   "pygments_lexer": "ipython3",
   "version": "3.8.8"
  },
  "latex_envs": {
   "LaTeX_envs_menu_present": true,
   "autoclose": false,
   "autocomplete": true,
   "bibliofile": "biblio.bib",
   "cite_by": "apalike",
   "current_citInitial": 1,
   "eqLabelWithNumbers": true,
   "eqNumInitial": 1,
   "hotkeys": {
    "equation": "Ctrl-E",
    "itemize": "Ctrl-I"
   },
   "labels_anchors": false,
   "latex_user_defs": false,
   "report_style_numbering": false,
   "user_envs_cfg": false
  }
 },
 "nbformat": 4,
 "nbformat_minor": 4
}
